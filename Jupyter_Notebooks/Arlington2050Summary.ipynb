{
 "cells": [
  {
   "cell_type": "markdown",
   "metadata": {},
   "source": [
    "# Arlington 2050 Wrap Up\n",
    "\n",
    "## Summary\n",
    "\n",
    "- I participated in the Arlington 2050 project, which is a project created by Arlington County in Virginia, to obtain information from residents about Arlington's future. The county set up different polling stands where residents were given a post card and asked to answer a couple questions. \n",
    "- The questions were, \"Share your message from the future here!\", \"Getting here wasn't easy, but it was worth it! Here is how we did it:\"\n",
    "- The part I played in this whole project was analyising all the data, and creating visuals with it.\n",
    "- I specifically worked on the data collected from the county fair."
   ]
  }
 ],
 "metadata": {
  "language_info": {
   "name": "python"
  }
 },
 "nbformat": 4,
 "nbformat_minor": 2
}
